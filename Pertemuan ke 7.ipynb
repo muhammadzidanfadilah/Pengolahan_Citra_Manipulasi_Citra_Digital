{
 "cells": [
  {
   "cell_type": "code",
   "execution_count": 1,
   "id": "95bf2974-364f-460b-a238-ef12b705775f",
   "metadata": {},
   "outputs": [],
   "source": [
    "import cv2 as cv"
   ]
  },
  {
   "cell_type": "code",
   "execution_count": 2,
   "id": "5bf84d22-e709-4330-a7e3-1e0e738dbe6b",
   "metadata": {},
   "outputs": [],
   "source": [
    "image = cv.imread('../PengolahanCitra/many fruits.png')\n",
    "imagecopy= image.copy()\n",
    "cv.imshow( 'Original image' , image )\n",
    "cv.waitKey(0)\n",
    "cv.destroyAllWindows()"
   ]
  },
  {
   "cell_type": "code",
   "execution_count": 3,
   "id": "9288ccd2-d6af-48c6-98fc-56feb8d06fc7",
   "metadata": {},
   "outputs": [],
   "source": [
    "gray_image = cv.cvtColor(image,cv.COLOR_BGR2GRAY)\n",
    "cv.imshow( 'gray' , gray_image )\n",
    "cv.waitKey(0)\n",
    "cv.destroyAllWindows()"
   ]
  },
  {
   "cell_type": "code",
   "execution_count": 4,
   "id": "2f3525a7-d134-479a-a734-f1e1b7417133",
   "metadata": {},
   "outputs": [],
   "source": [
    "ret,binary_im = cv.threshold(gray_image,245,255,cv.THRESH_BINARY)\n",
    "cv.imshow( 'binary' , binary_im )\n",
    "cv.waitKey(0)\n",
    "cv.destroyAllWindows()"
   ]
  },
  {
   "cell_type": "code",
   "execution_count": 5,
   "id": "ab1955b7-c586-4e5a-a065-bfb6454c9bc5",
   "metadata": {},
   "outputs": [],
   "source": [
    "binary_im= ~binary_im\n",
    "cv.imshow( 'inverted binary' , binary_im )\n",
    "cv.waitKey(0)\n",
    "cv.destroyAllWindows()"
   ]
  },
  {
   "cell_type": "code",
   "execution_count": 6,
   "id": "affd04e8-cd0c-4610-ac93-909a75e23439",
   "metadata": {},
   "outputs": [],
   "source": [
    "#find the external contours from binary image\n",
    "contours,hierarchy = cv.findContours(binary_im,cv.RETR_EXTERNAL,cv.CHAIN_APPROX_SIMPLE)"
   ]
  },
  {
   "cell_type": "code",
   "execution_count": 7,
   "id": "fab43b7f-d177-44c6-b744-68a22053e35a",
   "metadata": {},
   "outputs": [],
   "source": [
    "with_contours = cv.drawContours(image,contours,-1,(0,0,255),3)\n",
    "cv.imshow( 'contours marked on RGB image' , with_contours )\n",
    "cv.waitKey(0)\n",
    "cv.destroyAllWindows()"
   ]
  },
  {
   "cell_type": "code",
   "execution_count": 8,
   "id": "400304e7-fdf1-47a7-b67e-915cc4e4c186",
   "metadata": {},
   "outputs": [],
   "source": [
    "ref_image = cv.imread('../PengolahanCitra/bananaref.png')\n",
    "cv.imshow( 'Reference image' , ref_image )\n",
    "cv.waitKey(0)\n",
    "cv.destroyAllWindows()"
   ]
  },
  {
   "cell_type": "code",
   "execution_count": 9,
   "id": "d06a7ec8-091a-4266-8916-0918a197e73e",
   "metadata": {},
   "outputs": [],
   "source": [
    "gray_image = cv.cvtColor(ref_image,cv.COLOR_BGR2GRAY)\n",
    "cv.imshow( 'Grayscale image' , gray_image )\n",
    "cv.waitKey(0)\n",
    "cv.destroyAllWindows()"
   ]
  },
  {
   "cell_type": "code",
   "execution_count": 10,
   "id": "7a80d501-7553-4156-b7e6-863059338d99",
   "metadata": {},
   "outputs": [],
   "source": [
    "ret,binary_im = cv.threshold(gray_image,245,255,cv.THRESH_BINARY)\n",
    "cv.imshow( 'Binary image' , binary_im )\n",
    "cv.waitKey(0)\n",
    "cv.destroyAllWindows()"
   ]
  },
  {
   "cell_type": "code",
   "execution_count": 11,
   "id": "298a5f37-5e41-477c-9e79-4af83fe046e2",
   "metadata": {},
   "outputs": [],
   "source": [
    "binary_im= ~binary_im\n",
    "cv.imshow( 'inverted binary image' , binary_im )\n",
    "cv.waitKey(0)\n",
    "cv.destroyAllWindows()"
   ]
  },
  {
   "cell_type": "code",
   "execution_count": 21,
   "id": "a8f1224d-678b-4f9d-a21f-fbd852591f01",
   "metadata": {},
   "outputs": [],
   "source": [
    "dist_list= []\n",
    "for cnt in contours:\n",
    "    retval= cv.matchShapes(cnt, binary_im,1,0)\n",
    "    dist_list.append(retval)"
   ]
  },
  {
   "cell_type": "code",
   "execution_count": 22,
   "id": "ed9ddb5b-ad47-4079-a386-138c94d6366b",
   "metadata": {},
   "outputs": [],
   "source": [
    "sorted_list= dist_list.copy()\n",
    "sorted_list.sort() # sorts the list from smallest to largest\n",
    "ind1_dist= dist_list.index(sorted_list[0])\n",
    "ind2_dist= dist_list.index(sorted_list[1])"
   ]
  },
  {
   "cell_type": "code",
   "execution_count": 23,
   "id": "9181d4a8-d8e3-48b5-ad06-b76d09a04e25",
   "metadata": {},
   "outputs": [],
   "source": [
    "banana_cnts= []\n",
    "banana_cnts.append(contours[ind1_dist])\n",
    "banana_cnts.append(contours[ind2_dist])"
   ]
  },
  {
   "cell_type": "code",
   "execution_count": 24,
   "id": "9169afe0-8139-4edb-92fb-31d24a0d6fd5",
   "metadata": {},
   "outputs": [],
   "source": [
    "with_contours = cv.drawContours(image,banana_cnts,-1,(255,0,0),3)\n",
    "cv.imshow( 'contours marked on RGB image' , with_contours )\n",
    "cv.waitKey(0)\n",
    "cv.destroyAllWindows()"
   ]
  },
  {
   "cell_type": "code",
   "execution_count": 26,
   "id": "16b8fa4f-2905-4a94-ac77-14189efcf6c7",
   "metadata": {},
   "outputs": [],
   "source": [
    "for cnt in banana_cnts:\n",
    "    x,y,w,h = cv.boundingRect(cnt)\n",
    "    if h>w:\n",
    "        cv.rectangle(imagecopy,(x,y),(x+w,y+h),(255,0,0),2)\n",
    "cv.imshow( 'Upright banana marked on RGB image' , imagecopy )\n",
    "cv.waitKey(0)\n",
    "cv.destroyAllWindows()"
   ]
  },
  {
   "cell_type": "code",
   "execution_count": null,
   "id": "7780c5a6-5b22-4f4b-a9e0-ee251a805190",
   "metadata": {},
   "outputs": [],
   "source": []
  }
 ],
 "metadata": {
  "kernelspec": {
   "display_name": "Python 3 (ipykernel)",
   "language": "python",
   "name": "python3"
  },
  "language_info": {
   "codemirror_mode": {
    "name": "ipython",
    "version": 3
   },
   "file_extension": ".py",
   "mimetype": "text/x-python",
   "name": "python",
   "nbconvert_exporter": "python",
   "pygments_lexer": "ipython3",
   "version": "3.11.0"
  }
 },
 "nbformat": 4,
 "nbformat_minor": 5
}
