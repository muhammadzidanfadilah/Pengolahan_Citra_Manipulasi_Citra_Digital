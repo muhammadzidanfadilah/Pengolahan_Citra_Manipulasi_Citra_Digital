{
 "cells": [
  {
   "cell_type": "code",
   "execution_count": 5,
   "id": "39f9f9cd-53ca-40c8-9014-f9ebf4a8613d",
   "metadata": {},
   "outputs": [],
   "source": [
    "import cv2"
   ]
  },
  {
   "cell_type": "code",
   "execution_count": 6,
   "id": "0335a6f1-092c-41a9-a808-84f7a1c42c4e",
   "metadata": {},
   "outputs": [],
   "source": [
    "image = cv2.imread('many fruits.png')\n",
    "imagecopy= image.copy()\n",
    "cv2.imshow( 'Original image' , image )\n",
    "cv2.waitKey(0)\n",
    "cv2.destroyAllWindows()"
   ]
  },
  {
   "cell_type": "code",
   "execution_count": 7,
   "id": "a607747f-2a2c-4c73-9378-41b8235996a7",
   "metadata": {},
   "outputs": [],
   "source": [
    "gray_image = cv2.cvtColor(image,cv2.COLOR_BGR2GRAY)\n",
    "cv2.imshow( 'gray' , gray_image )\n",
    "cv2.waitKey(0)\n",
    "cv2.destroyAllWindows()"
   ]
  },
  {
   "cell_type": "code",
   "execution_count": 8,
   "id": "d78d5a78-2297-4d05-bbf2-51e1328ee9c5",
   "metadata": {},
   "outputs": [],
   "source": [
    "ret,binary_im = cv2.threshold(gray_image,245,255,cv2.THRESH_BINARY)\n",
    "cv2.imshow( 'binary' , binary_im )\n",
    "cv2.waitKey(0)\n",
    "cv2.destroyAllWindows()"
   ]
  },
  {
   "cell_type": "code",
   "execution_count": 9,
   "id": "6b4190b1-cfb4-427c-bba1-321253d71b25",
   "metadata": {},
   "outputs": [],
   "source": [
    "binary_im= ~binary_im\n",
    "cv2.imshow( 'inverted binary' , binary_im )\n",
    "cv2.waitKey(0)\n",
    "cv2.destroyAllWindows()"
   ]
  },
  {
   "cell_type": "code",
   "execution_count": 17,
   "id": "912a5e8a-ba44-45de-a1b2-c0a8dcd792f5",
   "metadata": {},
   "outputs": [],
   "source": [
    "contours, hierarchy = cv2.findContours(binary_im,cv2.RETR_EXTERNAL,cv2.CHAIN_APPROX_SIMPLE)"
   ]
  },
  {
   "cell_type": "code",
   "execution_count": 11,
   "id": "d17fd9b0-282a-4bf3-9f32-44feaa82b555",
   "metadata": {},
   "outputs": [],
   "source": [
    "with_contours = cv2.drawContours(image,contours,-1,(0,0,255),3)\n",
    "cv2.imshow( 'contours marked on RGB image' , with_contours )\n",
    "cv2.waitKey(0)\n",
    "cv2.destroyAllWindows()"
   ]
  },
  {
   "cell_type": "code",
   "execution_count": 12,
   "id": "2e205263-2caa-4b63-bf85-325a67af3265",
   "metadata": {},
   "outputs": [],
   "source": [
    "ref_image = cv2.imread('bananaref.png')\n",
    "cv2.imshow( 'Reference image' , ref_image )\n",
    "cv2.waitKey(0)\n",
    "cv2.destroyAllWindows()"
   ]
  },
  {
   "cell_type": "code",
   "execution_count": 13,
   "id": "2c7d46a0-890b-4854-bdac-3ad7e2c14f2a",
   "metadata": {},
   "outputs": [],
   "source": [
    "gray_image = cv2.cvtColor(ref_image,cv2.COLOR_BGR2GRAY)\n",
    "cv2.imshow( 'Grayscale image' , gray_image )\n",
    "cv2.waitKey(0)\n",
    "cv2.destroyAllWindows()"
   ]
  },
  {
   "cell_type": "code",
   "execution_count": 14,
   "id": "db6389a2-c163-4065-8690-20b9f465c627",
   "metadata": {},
   "outputs": [],
   "source": [
    "ret,binary_im = cv2.threshold(gray_image,245,255,cv2.THRESH_BINARY)\n",
    "cv2.imshow( 'Binary image' , binary_im )\n",
    "cv2.waitKey(0)\n",
    "cv2.destroyAllWindows()"
   ]
  },
  {
   "cell_type": "code",
   "execution_count": 19,
   "id": "01986c5f-60de-40b4-83a3-d8954a1bb861",
   "metadata": {},
   "outputs": [],
   "source": [
    "binary_im= binary_im\n",
    "cv2.imshow( 'inverted binary image' , binary_im )\n",
    "cv2.waitKey(0)\n",
    "cv2.destroyAllWindows()"
   ]
  },
  {
   "cell_type": "code",
   "execution_count": 22,
   "id": "8782ba27-21ac-4eb7-b8b9-538b23e04aff",
   "metadata": {},
   "outputs": [],
   "source": [
    "reference_contour = contours[0]"
   ]
  },
  {
   "cell_type": "code",
   "execution_count": 23,
   "id": "611d408f-4e25-4758-ae23-812bc009d2c2",
   "metadata": {},
   "outputs": [],
   "source": [
    "# Buat list kosong untuk menyimpan hasil perbandingan\n",
    "dist_list = []\n",
    "\n",
    "# Loop melalui setiap kontur dalam contours\n",
    "for cnt in contours:\n",
    "    # Hitung kesamaan bentuk antara kontur saat ini dan reference_contour\n",
    "    retval = cv2.matchShapes(cnt, reference_contour, 1, 0)\n",
    "    # Tambahkan hasil ke dalam list dist_list\n",
    "    dist_list.append(retval)\n"
   ]
  },
  {
   "cell_type": "code",
   "execution_count": 36,
   "id": "0ba543b4-8212-4d5a-a38e-3981af530084",
   "metadata": {},
   "outputs": [],
   "source": [
    "sorted_list= dist_list.copy()\n",
    "sorted_list.sort() # sorts the list from smallest to largest\n",
    "ind1_dist= dist_list.index(sorted_list[0])\n",
    "ind2_dist= dist_list.index(sorted_list[1])"
   ]
  },
  {
   "cell_type": "code",
   "execution_count": 34,
   "id": "d84a09bd-76f7-4b33-afb7-c33d8db08503",
   "metadata": {},
   "outputs": [],
   "source": [
    "banana_cnts= []\n",
    "banana_cnts.append(contours[ind1_dist])\n",
    "banana_cnts.append(contours[ind2_dist])"
   ]
  },
  {
   "cell_type": "code",
   "execution_count": 35,
   "id": "08675daf-5d71-4627-b877-1d6c84de67d6",
   "metadata": {},
   "outputs": [],
   "source": [
    "with_contours = cv2.drawContours(image,banana_cnts,-3,(255,2,0),3)\n",
    "cv2.imshow( 'contours marked on RGB image' , with_contours )\n",
    "cv2.waitKey(0)\n",
    "cv2.destroyAllWindows()"
   ]
  },
  {
   "cell_type": "code",
   "execution_count": null,
   "id": "11ae040a-117b-44af-9e9f-27abff7521f1",
   "metadata": {},
   "outputs": [],
   "source": [
    "for cnt in banana_cnts:\n",
    "    x, y, w, h = cv2.boundingRect(cnt)\n",
    "    if h > w:\n",
    "        # Calculate the center and radius of the circle\n",
    "        center = (x + w // 2, y + h // 2)\n",
    "        radius = max(w, h) // 2\n",
    "        # Draw the circle\n",
    "        cv2.circle(imagecopy, center, radius, (255, 0, 0), 5)\n",
    "\n",
    "cv2.imshow('Upright banana marked on RGB image', imagecopy)\n",
    "cv2.waitKey(0)\n",
    "cv2.destroyAllWindows()"
   ]
  },
  {
   "cell_type": "code",
   "execution_count": null,
   "id": "58cf4176-956d-4bac-95ff-ce319cdfc4a2",
   "metadata": {},
   "outputs": [],
   "source": []
  }
 ],
 "metadata": {
  "kernelspec": {
   "display_name": "Python 3 (ipykernel)",
   "language": "python",
   "name": "python3"
  },
  "language_info": {
   "codemirror_mode": {
    "name": "ipython",
    "version": 3
   },
   "file_extension": ".py",
   "mimetype": "text/x-python",
   "name": "python",
   "nbconvert_exporter": "python",
   "pygments_lexer": "ipython3",
   "version": "3.12.2"
  }
 },
 "nbformat": 4,
 "nbformat_minor": 5
}
